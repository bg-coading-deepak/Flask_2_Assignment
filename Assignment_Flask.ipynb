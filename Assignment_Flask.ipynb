{
 "cells": [
  {
   "cell_type": "markdown",
   "id": "0b987aa1-8f3b-44cd-8deb-076be237b425",
   "metadata": {},
   "source": [
    "Q1. Explain GET and POST methods."
   ]
  },
  {
   "cell_type": "code",
   "execution_count": null,
   "id": "9dbce305-8f7a-440e-9f53-d0389e6d51dd",
   "metadata": {},
   "outputs": [],
   "source": [
    "In GET method we can not send large amount of data rather limited data is sent\n",
    "because the request parameter is appended into the URL.\n",
    "In POST method large amount of data can be sent because the request parameter is appended into the body."
   ]
  },
  {
   "cell_type": "markdown",
   "id": "e1b6cb99-5a4c-4574-8278-d8020741db77",
   "metadata": {},
   "source": [
    "Q2. Why is request used in Flask?"
   ]
  },
  {
   "cell_type": "code",
   "execution_count": null,
   "id": "86948ae3-490d-4106-8712-bfdfeeb97a84",
   "metadata": {},
   "outputs": [],
   "source": [
    "The Request, in Flask, is an object that contains all the data sent from the Client to Server.\n",
    "This data can be recovered using the GET/POST Methods."
   ]
  },
  {
   "cell_type": "markdown",
   "id": "08b94bcc-3ceb-45a6-b657-ecc0fb73cd03",
   "metadata": {},
   "source": [
    "Q3. Why is redirect() used in Flask?"
   ]
  },
  {
   "cell_type": "code",
   "execution_count": null,
   "id": "884a2056-0f3a-4cc0-b3ff-81ae8082d42d",
   "metadata": {},
   "outputs": [],
   "source": [
    "Redirects are used when moving content to a new URL, when deleting pages or when changing domain names or merging websites.\n",
    "Whenever possible avoid using redirects. When you have to use them,\n",
    "make sure to follow these best practices: Avoid chained redirects: one redirect should not forward to another redirect"
   ]
  },
  {
   "cell_type": "markdown",
   "id": "7e3edf60-39db-484f-ae61-5e37da07bd40",
   "metadata": {},
   "source": [
    "Q4.What are templates in Flask? Why is the render_template() function used?"
   ]
  },
  {
   "cell_type": "code",
   "execution_count": null,
   "id": "8bda4f96-a161-4653-9058-ff5772e11473",
   "metadata": {},
   "outputs": [],
   "source": [
    "Templates are files that contain static data as well as placeholders for dynamic data\n",
    "A template is rendered with specific data to produce a final document.\n",
    "Flask uses the Jinja template library to render templates.\n",
    "In your application, you will use templates to render HTML which will display in the user's browser."
   ]
  },
  {
   "cell_type": "markdown",
   "id": "be91d7eb-7d77-4c5d-8270-54d39314e87a",
   "metadata": {},
   "source": [
    "Q5. Create a simple API. Use Postman to test it. Attach the screenshot of the output in the Jupyter Notebook."
   ]
  },
  {
   "cell_type": "code",
   "execution_count": null,
   "id": "20554eb7-2190-41ac-bd0f-58b2c113c33a",
   "metadata": {},
   "outputs": [],
   "source": []
  }
 ],
 "metadata": {
  "kernelspec": {
   "display_name": "Python 3 (ipykernel)",
   "language": "python",
   "name": "python3"
  },
  "language_info": {
   "codemirror_mode": {
    "name": "ipython",
    "version": 3
   },
   "file_extension": ".py",
   "mimetype": "text/x-python",
   "name": "python",
   "nbconvert_exporter": "python",
   "pygments_lexer": "ipython3",
   "version": "3.10.8"
  }
 },
 "nbformat": 4,
 "nbformat_minor": 5
}
